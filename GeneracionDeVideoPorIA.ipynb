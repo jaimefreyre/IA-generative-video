{
  "nbformat": 4,
  "nbformat_minor": 0,
  "metadata": {
    "colab": {
      "provenance": []
    },
    "kernelspec": {
      "name": "python3",
      "display_name": "Python 3"
    },
    "accelerator": "GPU"
  },
  "cells": [
    {
      "cell_type": "markdown",
      "metadata": {
        "id": "cdO_RxQZLahB"
      },
      "source": [
        "# \"First Order Motion Model for Image Animation\" versión simplificada por RT"
      ]
    },
    {
      "cell_type": "markdown",
      "metadata": {
        "id": "GCDNKsEGLtR6"
      },
      "source": [
        "**Clonar el repositorio**"
      ]
    },
    {
      "cell_type": "code",
      "source": [
        "#Actualizaciones Julio 2023:\n",
        "#Bibliotecas a instalar para correcto funcionamiento.\n",
        "#Ojo: (Si al ejecutar sale un botón de \"Reiniciar runtime\", dar clic en él antes de continuar\n",
        "!pip install pyyaml==5.4.1 imageio-ffmpeg ffmpeg-python"
      ],
      "metadata": {
        "id": "zePgtkzzgjlH"
      },
      "execution_count": null,
      "outputs": []
    },
    {
      "cell_type": "code",
      "metadata": {
        "id": "UCMFMJV7K-ag",
        "outputId": "52d71b0d-03d9-4895-de5d-e58eff349a58",
        "colab": {
          "base_uri": "https://localhost:8080/",
          "height": 108
        }
      },
      "source": [
        "#Descargar el repositorio\n",
        "!git clone https://github.com/AliaksandrSiarohin/first-order-model"
      ],
      "execution_count": null,
      "outputs": [
        {
          "output_type": "stream",
          "text": [
            "Cloning into 'first-order-model'...\n",
            "remote: Enumerating objects: 236, done.\u001b[K\n",
            "remote: Total 236 (delta 0), reused 0 (delta 0), pack-reused 236\u001b[K\n",
            "Receiving objects: 100% (236/236), 71.46 MiB | 28.52 MiB/s, done.\n",
            "Resolving deltas: 100% (117/117), done.\n"
          ],
          "name": "stdout"
        }
      ]
    },
    {
      "cell_type": "markdown",
      "metadata": {
        "id": "IcMX7ueZO0Oa"
      },
      "source": [
        "**Montar el folder de Google Drive en este Colab**"
      ]
    },
    {
      "cell_type": "code",
      "metadata": {
        "id": "tDbMA8R9OuUo"
      },
      "source": [
        "# Al ejecutar este bloque, aparecerá un URL. El URL se debe de abrir en el explorador\n",
        "# y otorgar permisos. Ojo: Si te preocupa la seguridad, (no deberia ser prob, ya que es comunicacion 1 a 1 entre servicios de Google, de Colab a Drive) puedes hacerlo en una cuenta de Google\n",
        "# que te inventes solo para esto. Y subes las cosas en Google Drive de esa cuenta nueva.\n",
        "\n",
        "# Cuando apruebes en Google Drive, te dara un codigo, y se debe pegar en el campo de texto\n",
        "# que aparecera, y dar clic en Enter\n",
        "\n",
        "from google.colab import drive\n",
        "drive.mount('/content/gdrive', force_remount=True)"
      ],
      "execution_count": null,
      "outputs": []
    },
    {
      "cell_type": "markdown",
      "metadata": {
        "id": "VsgVK1EURXkd"
      },
      "source": [
        "**Agregar esta carpeta a tu Google Drive: https://drive.google.com/drive/folders/1kZ1gCnpfU0BnpdU47pLM_TQ6RypDDqgw?usp=sharing**"
      ]
    },
    {
      "cell_type": "code",
      "metadata": {
        "id": "MNoi0sQ0ekOS"
      },
      "source": [
        "# Aqui debes cargar el modelo que quieras.\n",
        "# Por defecto tiene el de caras, pero puedes cambiarlo al de cuerpo, stickers, etc\n",
        "\n",
        "#OJO: La ruta busca que en tu Drive de Google, bajo \"My Drive (Mi unidad)\" tengas una carpeta 'first-order-model-checkpoints', y dentro el archivo vox-cpk.pth.tar.\n",
        "#Si no lo tienes asi despues de agregar la carpeta de la liga de arriba, crea manualmente esa carpeta y coloca el archivo vox-cpk.pth.tar ahi\n",
        "\n",
        "# Una vez cargado se reutiliza para todas las veces que quieras ejecutar lo de abajo\n",
        "\n",
        "%cd /content/first-order-model\n",
        "from demo import load_checkpoints\n",
        "generator, kp_detector = load_checkpoints(config_path='config/vox-256.yaml',\n",
        "                            checkpoint_path='/content/gdrive/My Drive/first-order-model-checkpoints/vox-cpk.pth.tar')\n",
        "\n",
        "def display(source, driving, generated=None):\n",
        "    fig = plt.figure(figsize=(8 + 4 * (generated is not None), 6))\n",
        "\n",
        "    ims = []\n",
        "    for i in range(len(driving)):\n",
        "        cols = [source]\n",
        "        cols.append(driving[i])\n",
        "        if generated is not None:\n",
        "            cols.append(generated[i])\n",
        "        im = plt.imshow(np.concatenate(cols, axis=1), animated=True)\n",
        "        plt.axis('off')\n",
        "        ims.append([im])\n",
        "\n",
        "    ani = animation.ArtistAnimation(fig, ims, interval=50, repeat_delay=1000)\n",
        "    plt.close()\n",
        "    return ani"
      ],
      "execution_count": null,
      "outputs": []
    },
    {
      "cell_type": "markdown",
      "metadata": {
        "id": "rW-ipQXPOWUo"
      },
      "source": [
        "**Cargar video, imagen destino, y animar :D**\n",
        "\n"
      ]
    },
    {
      "cell_type": "code",
      "metadata": {
        "id": "ZwYSQ3Mhr4R2"
      },
      "source": [
        "import imageio\n",
        "import numpy as np\n",
        "import matplotlib.pyplot as plt\n",
        "import matplotlib.animation as animation\n",
        "from skimage.transform import resize\n",
        "from IPython.display import HTML\n",
        "import warnings\n",
        "warnings.filterwarnings(\"ignore\")\n",
        "\n",
        "# Aqui se pone la imagen que quieres animar\n",
        "source_image = imageio.imread('/content/gdrive/My Drive/deepfakes/putin.png')\n",
        "# Aqui se pone el video fuente, que tiene el movimiento original\n",
        "driving_video = imageio.mimread('/content/gdrive/My Drive/deepfakes/blabla.mp4')\n",
        "\n",
        "\n",
        "# Por defecto la imagen y video se reducen a 256x256.\n",
        "# Ojo! Revisa que ambos (video e imagen) sean cuadrados para que no batalles.\n",
        "\n",
        "source_image = resize(source_image, (256, 256))[..., :3]\n",
        "driving_video = [resize(frame, (256, 256))[..., :3] for frame in driving_video]\n",
        "\n",
        "#HTML(display(source_image, driving_video).to_html5_video())\n",
        "\n",
        "from demo import make_animation\n",
        "from skimage import img_as_ubyte\n",
        "\n",
        "predictions = make_animation(source_image, driving_video, generator, kp_detector, relative=True)\n",
        "imageio.mimsave('../generated.mp4', [img_as_ubyte(frame) for frame in predictions])\n",
        "\n",
        "# Mostrar abajo el video, es descargable\n",
        "HTML(display(source_image, driving_video, predictions).to_html5_video())"
      ],
      "execution_count": null,
      "outputs": []
    }
  ]
}